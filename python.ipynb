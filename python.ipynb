{
  "nbformat": 4,
  "nbformat_minor": 0,
  "metadata": {
    "colab": {
      "name": "Untitled0.ipynb",
      "provenance": [],
      "authorship_tag": "ABX9TyOrZIuT9ffLRcVrdyRkXmiP",
      "include_colab_link": true
    },
    "kernelspec": {
      "name": "python3",
      "display_name": "Python 3"
    },
    "language_info": {
      "name": "python"
    }
  },
  "cells": [
    {
      "cell_type": "markdown",
      "metadata": {
        "id": "view-in-github",
        "colab_type": "text"
      },
      "source": [
        "<a href=\"https://colab.research.google.com/github/vasanth059/Basic-ML/blob/main/python.ipynb\" target=\"_parent\"><img src=\"https://colab.research.google.com/assets/colab-badge.svg\" alt=\"Open In Colab\"/></a>"
      ]
    },
    {
      "cell_type": "markdown",
      "metadata": {
        "id": "jnVz9uKFDBcI"
      },
      "source": [
        "python program to find area of a circle"
      ]
    },
    {
      "cell_type": "code",
      "metadata": {
        "colab": {
          "base_uri": "https://localhost:8080/"
        },
        "id": "6bNJuLQlDNhX",
        "outputId": "3d267cad-1a62-41ef-ef83-97590098a763"
      },
      "source": [
        "r=int(input(\"enter r value\"))\n",
        "a=3.142*r*r\n",
        "print(a)\n",
        "\n",
        "\n",
        "\n"
      ],
      "execution_count": 2,
      "outputs": [
        {
          "output_type": "stream",
          "name": "stdout",
          "text": [
            "enter r value10\n",
            "314.2\n"
          ]
        }
      ]
    },
    {
      "cell_type": "markdown",
      "metadata": {
        "id": "anLW7DK2EPBf"
      },
      "source": [
        "python program to find whether the given no is even or odd\n"
      ]
    },
    {
      "cell_type": "code",
      "metadata": {
        "colab": {
          "base_uri": "https://localhost:8080/"
        },
        "id": "TjL5RoazEbyK",
        "outputId": "abf6b9e4-5794-48e3-f4f5-44b7c6fb46ec"
      },
      "source": [
        "n=int(input(\"enter n value\"))\n",
        "if(n%2==0):\n",
        "  print(\"it is a even number\")\n",
        "else:\n",
        "  print(\"it is a odd number\")\n",
        "  "
      ],
      "execution_count": 3,
      "outputs": [
        {
          "output_type": "stream",
          "name": "stdout",
          "text": [
            "enter n value5\n",
            "it is a odd number\n"
          ]
        }
      ]
    },
    {
      "cell_type": "markdown",
      "metadata": {
        "id": "Wo4TtMf2E01G"
      },
      "source": [
        "python program to find the biggest of 3 numbers"
      ]
    },
    {
      "cell_type": "code",
      "metadata": {
        "colab": {
          "base_uri": "https://localhost:8080/"
        },
        "id": "-vtuCsC1E9Dp",
        "outputId": "b6f216f8-ab77-43e0-ceec-4d8cee4a048d"
      },
      "source": [
        "a=int(input(\"enter a value\"))\n",
        "b=int(input(\"enter b value\"))\n",
        "c=int(input(\"enter c value\"))\n",
        "if(a>b):\n",
        "  if(a>c):\n",
        "    print(\"a is big\")\n",
        "  else:\n",
        "    print(\"c is big\")\n",
        "else:\n",
        "  if(b>c):\n",
        "    print(\"b is big\")\n",
        "  else:\n",
        "    print(\"c is big\")"
      ],
      "execution_count": 4,
      "outputs": [
        {
          "output_type": "stream",
          "name": "stdout",
          "text": [
            "enter a value12\n",
            "enter b value14\n",
            "enter c value13\n",
            "b is big\n"
          ]
        }
      ]
    }
  ]
}